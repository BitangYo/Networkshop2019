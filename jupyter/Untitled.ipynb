{
 "cells": [
  {
   "cell_type": "code",
   "execution_count": 17,
   "metadata": {},
   "outputs": [],
   "source": [
    "import numpy as np\n",
    "import matplotlib.pyplot as plt\n",
    "from scipy.integrate import quad\n",
    "\n",
    "np.set_printoptions(formatter={'float': lambda x: \"{0:0.3f}\".format(x)})"
   ]
  },
  {
   "cell_type": "markdown",
   "metadata": {},
   "source": [
    "# Nyufi\n",
    "\n",
    "fsakjfasdkjfS\n",
    "SDKFJHASKJDF\n",
    "- DAWDAW\n",
    "- DAKDHGAW\n",
    "- DAWD"
   ]
  },
  {
   "cell_type": "code",
   "execution_count": 26,
   "metadata": {},
   "outputs": [
    {
     "name": "stdout",
     "output_type": "stream",
     "text": [
      "[[0.000 5.528 6.605 7.807 0.000]]\n",
      "\n",
      " ---------------------------------------- \n",
      "\n",
      "f =  [5 4 9 8 1]\n",
      "\n",
      " ---------------------------------------- \n",
      "\n",
      "u =  [0.000 5.891 7.039 8.320 0.000]\n",
      "\n",
      " ---------------------------------------- \n",
      "\n",
      "e =  [5.000 -1.891 1.961 -0.320 1.000]\n",
      "\n",
      " ---------------------------------------- \n",
      "\n",
      "L2:  5.790072994871161\n",
      "\n",
      " ---------------------------------------- \n",
      "\n",
      "v =  [0.000 32.614 38.968 46.063 0.000]\n",
      "\n",
      " ---------------------------------------- \n",
      "\n"
     ]
    },
    {
     "data": {
      "text/plain": [
       "-4.263256414560601e-14"
      ]
     },
     "execution_count": 26,
     "metadata": {},
     "output_type": "execute_result"
    }
   ],
   "source": [
    "def delimiter():\n",
    "    print(\"\\n\", \"-\" * 40, \"\\n\")\n",
    "    \n",
    "f = np.array([5, 4, 9, 8, 1])\n",
    "\n",
    "N = 1\n",
    "V = np.random.rand(N, f.shape[0]) * 10\n",
    "V[:, 0] = 0.0\n",
    "V[:, -1] = 0.0\n",
    "print(V)\n",
    "delimiter()\n",
    "\n",
    "N = V.shape[0]\n",
    "N1 = V.shape[1]\n",
    "\n",
    "A = np.zeros((N, N))\n",
    "b = np.zeros(N)\n",
    "\n",
    "for i in range(N):\n",
    "    for j in range(N):\n",
    "        A[i, j] = np.dot(V[i], V[j])\n",
    "    \n",
    "    b[i] = np.dot(V[i], f)\n",
    "        \n",
    "c = np.linalg.solve(A, b)\n",
    "\n",
    "u = np.dot(c, V)\n",
    "e = f - u\n",
    "\n",
    "print(\"f = \", f)\n",
    "delimiter()\n",
    "print(\"u = \", u)\n",
    "delimiter()\n",
    "print(\"e = \", e)\n",
    "delimiter()\n",
    "print(\"L2: \", np.linalg.norm(e))\n",
    "delimiter()\n",
    "\n",
    "v = np.dot(np.random.rand(N), V) * 10\n",
    "print(\"v = \", v)\n",
    "delimiter()\n",
    "np.dot(v, e)"
   ]
  },
  {
   "cell_type": "code",
   "execution_count": 3,
   "metadata": {},
   "outputs": [
    {
     "name": "stdout",
     "output_type": "stream",
     "text": [
      "L2: 0.004793327156029929\n"
     ]
    },
    {
     "ename": "NameError",
     "evalue": "name 'xc' is not defined",
     "output_type": "error",
     "traceback": [
      "\u001b[1;31m---------------------------------------------------------------------------\u001b[0m",
      "\u001b[1;31mNameError\u001b[0m                                 Traceback (most recent call last)",
      "\u001b[1;32m<ipython-input-3-52f39efab8f2>\u001b[0m in \u001b[0;36m<module>\u001b[1;34m\u001b[0m\n\u001b[0;32m     43\u001b[0m \u001b[1;33m\u001b[0m\u001b[0m\n\u001b[0;32m     44\u001b[0m \u001b[0mplt\u001b[0m\u001b[1;33m.\u001b[0m\u001b[0mfigure\u001b[0m\u001b[1;33m(\u001b[0m\u001b[0mfigsize\u001b[0m\u001b[1;33m=\u001b[0m\u001b[1;33m(\u001b[0m\u001b[1;36m16\u001b[0m\u001b[1;33m,\u001b[0m \u001b[1;36m10\u001b[0m\u001b[1;33m)\u001b[0m\u001b[1;33m)\u001b[0m\u001b[1;33m\u001b[0m\u001b[1;33m\u001b[0m\u001b[0m\n\u001b[1;32m---> 45\u001b[1;33m \u001b[0mplt\u001b[0m\u001b[1;33m.\u001b[0m\u001b[0mplot\u001b[0m\u001b[1;33m(\u001b[0m\u001b[0mxc\u001b[0m\u001b[1;33m,\u001b[0m \u001b[0mu\u001b[0m\u001b[1;33m(\u001b[0m\u001b[0mxc\u001b[0m\u001b[1;33m)\u001b[0m\u001b[1;33m,\u001b[0m \u001b[1;34m\"b-\"\u001b[0m\u001b[1;33m,\u001b[0m \u001b[0mlabel\u001b[0m\u001b[1;33m=\u001b[0m\u001b[1;34m\"u\"\u001b[0m\u001b[1;33m)\u001b[0m\u001b[1;33m\u001b[0m\u001b[1;33m\u001b[0m\u001b[0m\n\u001b[0m\u001b[0;32m     46\u001b[0m \u001b[0mplt\u001b[0m\u001b[1;33m.\u001b[0m\u001b[0mplot\u001b[0m\u001b[1;33m(\u001b[0m\u001b[0mxc\u001b[0m\u001b[1;33m,\u001b[0m \u001b[0mf\u001b[0m\u001b[1;33m(\u001b[0m\u001b[0mxc\u001b[0m\u001b[1;33m)\u001b[0m\u001b[1;33m,\u001b[0m \u001b[1;34m\"r-\"\u001b[0m\u001b[1;33m,\u001b[0m \u001b[0mlabel\u001b[0m\u001b[1;33m=\u001b[0m\u001b[1;34m\"f\"\u001b[0m\u001b[1;33m)\u001b[0m\u001b[1;33m\u001b[0m\u001b[1;33m\u001b[0m\u001b[0m\n\u001b[0;32m     47\u001b[0m \u001b[1;33m\u001b[0m\u001b[0m\n",
      "\u001b[1;31mNameError\u001b[0m: name 'xc' is not defined"
     ]
    },
    {
     "data": {
      "text/plain": [
       "<Figure size 1152x720 with 0 Axes>"
      ]
     },
     "metadata": {},
     "output_type": "display_data"
    }
   ],
   "source": [
    "import sympy as sm\n",
    "\n",
    "def lagrange(x, i, pt):\n",
    "    u = 1\n",
    "    for j in range(pt.shape[0]):\n",
    "        if j != i:\n",
    "            u *= (x - pt[j]) / (pt[i] - pt[j])\n",
    "            \n",
    "    return u\n",
    "\n",
    "N = 10\n",
    "r0, r1  = (0, 3)\n",
    "#f = lambda x: np.tanh(5 * x)\n",
    "f = lambda x: 5*np.abs(x - 0.5)\n",
    "\n",
    "x = sm.Symbol(\"x\")\n",
    "pt = np.linspace(r0, r1, N)\n",
    "\n",
    "V = [lagrange(x, i, pt) for i in range(N)]\n",
    "#for v in V:\n",
    "    #print(v)\n",
    "    #print()\n",
    "\n",
    "\n",
    "A = np.zeros((N, N))\n",
    "b = np.zeros(N)\n",
    "\n",
    "for i in range(N):\n",
    "    va = sm.lambdify([x], V[i], modules=\"numpy\")\n",
    "    \n",
    "    for j in range(N):\n",
    "        vb = sm.lambdify([x], V[j], modules=\"numpy\")\n",
    "        A[i, j] = quad(lambda x: va(x) * vb(x), r0, r1)[0]\n",
    "        \n",
    "    b[i] = quad(lambda x: va(x) * f(x), r0, r1)[0]\n",
    "        \n",
    "\n",
    "c = np.linalg.solve(A, b)\n",
    "u = sm.lambdify([x], sum(c * V), modules=\"numpy\")\n",
    "err = quad(lambda x: (u(x) - f(x)) ** 2, r0, r1)[0] * 1 / (r1 - r0)\n",
    "print(\"L2:\", err)\n",
    "\n",
    "\n",
    "plt.figure(figsize=(16, 10))\n",
    "plt.plot(xc, u(xc), \"b-\", label=\"u\")\n",
    "plt.plot(xc, f(xc), \"r-\", label=\"f\")\n",
    "\n",
    "plt.grid()\n",
    "plt.legend()"
   ]
  },
  {
   "cell_type": "code",
   "execution_count": null,
   "metadata": {},
   "outputs": [],
   "source": []
  }
 ],
 "metadata": {
  "kernelspec": {
   "display_name": "Python 3",
   "language": "python",
   "name": "python3"
  },
  "language_info": {
   "codemirror_mode": {
    "name": "ipython",
    "version": 3
   },
   "file_extension": ".py",
   "mimetype": "text/x-python",
   "name": "python",
   "nbconvert_exporter": "python",
   "pygments_lexer": "ipython3",
   "version": "3.7.3"
  }
 },
 "nbformat": 4,
 "nbformat_minor": 2
}
